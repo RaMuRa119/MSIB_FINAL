{
  "cells": [
    {
      "cell_type": "markdown",
      "metadata": {
        "id": "boevym3-9XK1"
      },
      "source": [
        "#EDA"
      ]
    },
    {
      "cell_type": "code",
      "execution_count": null,
      "metadata": {
        "id": "ROjtGtC-9R8i"
      },
      "outputs": [],
      "source": [
        "import pandas as pd\n",
        "import numpy as np\n",
        "import matplotlib.pyplot as plt\n",
        "import seaborn as sns\n",
        "from sklearn.preprocessing import LabelEncoder\n",
        "from sklearn.model_selection import train_test_split"
      ]
    },
    {
      "cell_type": "code",
      "execution_count": null,
      "metadata": {
        "colab": {
          "base_uri": "https://localhost:8080/"
        },
        "id": "SdfUHW4v9Yzr",
        "outputId": "7197d5c4-44a8-4e70-ee0d-11e571de90be"
      },
      "outputs": [
        {
          "output_type": "stream",
          "name": "stdout",
          "text": [
            "Drive already mounted at /content/drive; to attempt to forcibly remount, call drive.mount(\"/content/drive\", force_remount=True).\n"
          ]
        }
      ],
      "source": [
        "from google.colab import drive\n",
        "drive.mount('/content/drive')"
      ]
    },
    {
      "cell_type": "code",
      "execution_count": null,
      "metadata": {
        "id": "V286K1Gq9aza"
      },
      "outputs": [],
      "source": [
        "df = pd.read_csv('/content/drive/MyDrive/Final Project/Employee.csv')"
      ]
    },
    {
      "cell_type": "code",
      "execution_count": null,
      "metadata": {
        "colab": {
          "base_uri": "https://localhost:8080/",
          "height": 206
        },
        "id": "7yTvgMQz-xYh",
        "outputId": "6969cde2-7fbd-42e9-ccd8-9b870b271a20"
      },
      "outputs": [
        {
          "output_type": "execute_result",
          "data": {
            "text/plain": [
              "   Education  JoiningYear       City  PaymentTier  Age  Gender EverBenched  \\\n",
              "0  Bachelors         2017  Bangalore            3   34    Male          No   \n",
              "1  Bachelors         2013       Pune            1   28  Female          No   \n",
              "2  Bachelors         2014  New Delhi            3   38  Female          No   \n",
              "3    Masters         2016  Bangalore            3   27    Male          No   \n",
              "4    Masters         2017       Pune            3   24    Male         Yes   \n",
              "\n",
              "   ExperienceInCurrentDomain  LeaveOrNot  \n",
              "0                          0           0  \n",
              "1                          3           1  \n",
              "2                          2           0  \n",
              "3                          5           1  \n",
              "4                          2           1  "
            ],
            "text/html": [
              "\n",
              "  <div id=\"df-c463f4c8-1f1a-4f25-8da9-f77635e97b24\" class=\"colab-df-container\">\n",
              "    <div>\n",
              "<style scoped>\n",
              "    .dataframe tbody tr th:only-of-type {\n",
              "        vertical-align: middle;\n",
              "    }\n",
              "\n",
              "    .dataframe tbody tr th {\n",
              "        vertical-align: top;\n",
              "    }\n",
              "\n",
              "    .dataframe thead th {\n",
              "        text-align: right;\n",
              "    }\n",
              "</style>\n",
              "<table border=\"1\" class=\"dataframe\">\n",
              "  <thead>\n",
              "    <tr style=\"text-align: right;\">\n",
              "      <th></th>\n",
              "      <th>Education</th>\n",
              "      <th>JoiningYear</th>\n",
              "      <th>City</th>\n",
              "      <th>PaymentTier</th>\n",
              "      <th>Age</th>\n",
              "      <th>Gender</th>\n",
              "      <th>EverBenched</th>\n",
              "      <th>ExperienceInCurrentDomain</th>\n",
              "      <th>LeaveOrNot</th>\n",
              "    </tr>\n",
              "  </thead>\n",
              "  <tbody>\n",
              "    <tr>\n",
              "      <th>0</th>\n",
              "      <td>Bachelors</td>\n",
              "      <td>2017</td>\n",
              "      <td>Bangalore</td>\n",
              "      <td>3</td>\n",
              "      <td>34</td>\n",
              "      <td>Male</td>\n",
              "      <td>No</td>\n",
              "      <td>0</td>\n",
              "      <td>0</td>\n",
              "    </tr>\n",
              "    <tr>\n",
              "      <th>1</th>\n",
              "      <td>Bachelors</td>\n",
              "      <td>2013</td>\n",
              "      <td>Pune</td>\n",
              "      <td>1</td>\n",
              "      <td>28</td>\n",
              "      <td>Female</td>\n",
              "      <td>No</td>\n",
              "      <td>3</td>\n",
              "      <td>1</td>\n",
              "    </tr>\n",
              "    <tr>\n",
              "      <th>2</th>\n",
              "      <td>Bachelors</td>\n",
              "      <td>2014</td>\n",
              "      <td>New Delhi</td>\n",
              "      <td>3</td>\n",
              "      <td>38</td>\n",
              "      <td>Female</td>\n",
              "      <td>No</td>\n",
              "      <td>2</td>\n",
              "      <td>0</td>\n",
              "    </tr>\n",
              "    <tr>\n",
              "      <th>3</th>\n",
              "      <td>Masters</td>\n",
              "      <td>2016</td>\n",
              "      <td>Bangalore</td>\n",
              "      <td>3</td>\n",
              "      <td>27</td>\n",
              "      <td>Male</td>\n",
              "      <td>No</td>\n",
              "      <td>5</td>\n",
              "      <td>1</td>\n",
              "    </tr>\n",
              "    <tr>\n",
              "      <th>4</th>\n",
              "      <td>Masters</td>\n",
              "      <td>2017</td>\n",
              "      <td>Pune</td>\n",
              "      <td>3</td>\n",
              "      <td>24</td>\n",
              "      <td>Male</td>\n",
              "      <td>Yes</td>\n",
              "      <td>2</td>\n",
              "      <td>1</td>\n",
              "    </tr>\n",
              "  </tbody>\n",
              "</table>\n",
              "</div>\n",
              "    <div class=\"colab-df-buttons\">\n",
              "\n",
              "  <div class=\"colab-df-container\">\n",
              "    <button class=\"colab-df-convert\" onclick=\"convertToInteractive('df-c463f4c8-1f1a-4f25-8da9-f77635e97b24')\"\n",
              "            title=\"Convert this dataframe to an interactive table.\"\n",
              "            style=\"display:none;\">\n",
              "\n",
              "  <svg xmlns=\"http://www.w3.org/2000/svg\" height=\"24px\" viewBox=\"0 -960 960 960\">\n",
              "    <path d=\"M120-120v-720h720v720H120Zm60-500h600v-160H180v160Zm220 220h160v-160H400v160Zm0 220h160v-160H400v160ZM180-400h160v-160H180v160Zm440 0h160v-160H620v160ZM180-180h160v-160H180v160Zm440 0h160v-160H620v160Z\"/>\n",
              "  </svg>\n",
              "    </button>\n",
              "\n",
              "  <style>\n",
              "    .colab-df-container {\n",
              "      display:flex;\n",
              "      gap: 12px;\n",
              "    }\n",
              "\n",
              "    .colab-df-convert {\n",
              "      background-color: #E8F0FE;\n",
              "      border: none;\n",
              "      border-radius: 50%;\n",
              "      cursor: pointer;\n",
              "      display: none;\n",
              "      fill: #1967D2;\n",
              "      height: 32px;\n",
              "      padding: 0 0 0 0;\n",
              "      width: 32px;\n",
              "    }\n",
              "\n",
              "    .colab-df-convert:hover {\n",
              "      background-color: #E2EBFA;\n",
              "      box-shadow: 0px 1px 2px rgba(60, 64, 67, 0.3), 0px 1px 3px 1px rgba(60, 64, 67, 0.15);\n",
              "      fill: #174EA6;\n",
              "    }\n",
              "\n",
              "    .colab-df-buttons div {\n",
              "      margin-bottom: 4px;\n",
              "    }\n",
              "\n",
              "    [theme=dark] .colab-df-convert {\n",
              "      background-color: #3B4455;\n",
              "      fill: #D2E3FC;\n",
              "    }\n",
              "\n",
              "    [theme=dark] .colab-df-convert:hover {\n",
              "      background-color: #434B5C;\n",
              "      box-shadow: 0px 1px 3px 1px rgba(0, 0, 0, 0.15);\n",
              "      filter: drop-shadow(0px 1px 2px rgba(0, 0, 0, 0.3));\n",
              "      fill: #FFFFFF;\n",
              "    }\n",
              "  </style>\n",
              "\n",
              "    <script>\n",
              "      const buttonEl =\n",
              "        document.querySelector('#df-c463f4c8-1f1a-4f25-8da9-f77635e97b24 button.colab-df-convert');\n",
              "      buttonEl.style.display =\n",
              "        google.colab.kernel.accessAllowed ? 'block' : 'none';\n",
              "\n",
              "      async function convertToInteractive(key) {\n",
              "        const element = document.querySelector('#df-c463f4c8-1f1a-4f25-8da9-f77635e97b24');\n",
              "        const dataTable =\n",
              "          await google.colab.kernel.invokeFunction('convertToInteractive',\n",
              "                                                    [key], {});\n",
              "        if (!dataTable) return;\n",
              "\n",
              "        const docLinkHtml = 'Like what you see? Visit the ' +\n",
              "          '<a target=\"_blank\" href=https://colab.research.google.com/notebooks/data_table.ipynb>data table notebook</a>'\n",
              "          + ' to learn more about interactive tables.';\n",
              "        element.innerHTML = '';\n",
              "        dataTable['output_type'] = 'display_data';\n",
              "        await google.colab.output.renderOutput(dataTable, element);\n",
              "        const docLink = document.createElement('div');\n",
              "        docLink.innerHTML = docLinkHtml;\n",
              "        element.appendChild(docLink);\n",
              "      }\n",
              "    </script>\n",
              "  </div>\n",
              "\n",
              "\n",
              "<div id=\"df-c97ca038-0ea5-4aba-b1b3-dccb65775a25\">\n",
              "  <button class=\"colab-df-quickchart\" onclick=\"quickchart('df-c97ca038-0ea5-4aba-b1b3-dccb65775a25')\"\n",
              "            title=\"Suggest charts\"\n",
              "            style=\"display:none;\">\n",
              "\n",
              "<svg xmlns=\"http://www.w3.org/2000/svg\" height=\"24px\"viewBox=\"0 0 24 24\"\n",
              "     width=\"24px\">\n",
              "    <g>\n",
              "        <path d=\"M19 3H5c-1.1 0-2 .9-2 2v14c0 1.1.9 2 2 2h14c1.1 0 2-.9 2-2V5c0-1.1-.9-2-2-2zM9 17H7v-7h2v7zm4 0h-2V7h2v10zm4 0h-2v-4h2v4z\"/>\n",
              "    </g>\n",
              "</svg>\n",
              "  </button>\n",
              "\n",
              "<style>\n",
              "  .colab-df-quickchart {\n",
              "      --bg-color: #E8F0FE;\n",
              "      --fill-color: #1967D2;\n",
              "      --hover-bg-color: #E2EBFA;\n",
              "      --hover-fill-color: #174EA6;\n",
              "      --disabled-fill-color: #AAA;\n",
              "      --disabled-bg-color: #DDD;\n",
              "  }\n",
              "\n",
              "  [theme=dark] .colab-df-quickchart {\n",
              "      --bg-color: #3B4455;\n",
              "      --fill-color: #D2E3FC;\n",
              "      --hover-bg-color: #434B5C;\n",
              "      --hover-fill-color: #FFFFFF;\n",
              "      --disabled-bg-color: #3B4455;\n",
              "      --disabled-fill-color: #666;\n",
              "  }\n",
              "\n",
              "  .colab-df-quickchart {\n",
              "    background-color: var(--bg-color);\n",
              "    border: none;\n",
              "    border-radius: 50%;\n",
              "    cursor: pointer;\n",
              "    display: none;\n",
              "    fill: var(--fill-color);\n",
              "    height: 32px;\n",
              "    padding: 0;\n",
              "    width: 32px;\n",
              "  }\n",
              "\n",
              "  .colab-df-quickchart:hover {\n",
              "    background-color: var(--hover-bg-color);\n",
              "    box-shadow: 0 1px 2px rgba(60, 64, 67, 0.3), 0 1px 3px 1px rgba(60, 64, 67, 0.15);\n",
              "    fill: var(--button-hover-fill-color);\n",
              "  }\n",
              "\n",
              "  .colab-df-quickchart-complete:disabled,\n",
              "  .colab-df-quickchart-complete:disabled:hover {\n",
              "    background-color: var(--disabled-bg-color);\n",
              "    fill: var(--disabled-fill-color);\n",
              "    box-shadow: none;\n",
              "  }\n",
              "\n",
              "  .colab-df-spinner {\n",
              "    border: 2px solid var(--fill-color);\n",
              "    border-color: transparent;\n",
              "    border-bottom-color: var(--fill-color);\n",
              "    animation:\n",
              "      spin 1s steps(1) infinite;\n",
              "  }\n",
              "\n",
              "  @keyframes spin {\n",
              "    0% {\n",
              "      border-color: transparent;\n",
              "      border-bottom-color: var(--fill-color);\n",
              "      border-left-color: var(--fill-color);\n",
              "    }\n",
              "    20% {\n",
              "      border-color: transparent;\n",
              "      border-left-color: var(--fill-color);\n",
              "      border-top-color: var(--fill-color);\n",
              "    }\n",
              "    30% {\n",
              "      border-color: transparent;\n",
              "      border-left-color: var(--fill-color);\n",
              "      border-top-color: var(--fill-color);\n",
              "      border-right-color: var(--fill-color);\n",
              "    }\n",
              "    40% {\n",
              "      border-color: transparent;\n",
              "      border-right-color: var(--fill-color);\n",
              "      border-top-color: var(--fill-color);\n",
              "    }\n",
              "    60% {\n",
              "      border-color: transparent;\n",
              "      border-right-color: var(--fill-color);\n",
              "    }\n",
              "    80% {\n",
              "      border-color: transparent;\n",
              "      border-right-color: var(--fill-color);\n",
              "      border-bottom-color: var(--fill-color);\n",
              "    }\n",
              "    90% {\n",
              "      border-color: transparent;\n",
              "      border-bottom-color: var(--fill-color);\n",
              "    }\n",
              "  }\n",
              "</style>\n",
              "\n",
              "  <script>\n",
              "    async function quickchart(key) {\n",
              "      const quickchartButtonEl =\n",
              "        document.querySelector('#' + key + ' button');\n",
              "      quickchartButtonEl.disabled = true;  // To prevent multiple clicks.\n",
              "      quickchartButtonEl.classList.add('colab-df-spinner');\n",
              "      try {\n",
              "        const charts = await google.colab.kernel.invokeFunction(\n",
              "            'suggestCharts', [key], {});\n",
              "      } catch (error) {\n",
              "        console.error('Error during call to suggestCharts:', error);\n",
              "      }\n",
              "      quickchartButtonEl.classList.remove('colab-df-spinner');\n",
              "      quickchartButtonEl.classList.add('colab-df-quickchart-complete');\n",
              "    }\n",
              "    (() => {\n",
              "      let quickchartButtonEl =\n",
              "        document.querySelector('#df-c97ca038-0ea5-4aba-b1b3-dccb65775a25 button');\n",
              "      quickchartButtonEl.style.display =\n",
              "        google.colab.kernel.accessAllowed ? 'block' : 'none';\n",
              "    })();\n",
              "  </script>\n",
              "</div>\n",
              "\n",
              "    </div>\n",
              "  </div>\n"
            ],
            "application/vnd.google.colaboratory.intrinsic+json": {
              "type": "dataframe",
              "variable_name": "df",
              "summary": "{\n  \"name\": \"df\",\n  \"rows\": 4653,\n  \"fields\": [\n    {\n      \"column\": \"Education\",\n      \"properties\": {\n        \"dtype\": \"category\",\n        \"num_unique_values\": 3,\n        \"samples\": [\n          \"Bachelors\",\n          \"Masters\",\n          \"PHD\"\n        ],\n        \"semantic_type\": \"\",\n        \"description\": \"\"\n      }\n    },\n    {\n      \"column\": \"JoiningYear\",\n      \"properties\": {\n        \"dtype\": \"number\",\n        \"std\": 1,\n        \"min\": 2012,\n        \"max\": 2018,\n        \"num_unique_values\": 7,\n        \"samples\": [\n          2017,\n          2013,\n          2012\n        ],\n        \"semantic_type\": \"\",\n        \"description\": \"\"\n      }\n    },\n    {\n      \"column\": \"City\",\n      \"properties\": {\n        \"dtype\": \"category\",\n        \"num_unique_values\": 3,\n        \"samples\": [\n          \"Bangalore\",\n          \"Pune\",\n          \"New Delhi\"\n        ],\n        \"semantic_type\": \"\",\n        \"description\": \"\"\n      }\n    },\n    {\n      \"column\": \"PaymentTier\",\n      \"properties\": {\n        \"dtype\": \"number\",\n        \"std\": 0,\n        \"min\": 1,\n        \"max\": 3,\n        \"num_unique_values\": 3,\n        \"samples\": [\n          3,\n          1,\n          2\n        ],\n        \"semantic_type\": \"\",\n        \"description\": \"\"\n      }\n    },\n    {\n      \"column\": \"Age\",\n      \"properties\": {\n        \"dtype\": \"number\",\n        \"std\": 4,\n        \"min\": 22,\n        \"max\": 41,\n        \"num_unique_values\": 20,\n        \"samples\": [\n          34,\n          35,\n          26\n        ],\n        \"semantic_type\": \"\",\n        \"description\": \"\"\n      }\n    },\n    {\n      \"column\": \"Gender\",\n      \"properties\": {\n        \"dtype\": \"category\",\n        \"num_unique_values\": 2,\n        \"samples\": [\n          \"Female\",\n          \"Male\"\n        ],\n        \"semantic_type\": \"\",\n        \"description\": \"\"\n      }\n    },\n    {\n      \"column\": \"EverBenched\",\n      \"properties\": {\n        \"dtype\": \"category\",\n        \"num_unique_values\": 2,\n        \"samples\": [\n          \"Yes\",\n          \"No\"\n        ],\n        \"semantic_type\": \"\",\n        \"description\": \"\"\n      }\n    },\n    {\n      \"column\": \"ExperienceInCurrentDomain\",\n      \"properties\": {\n        \"dtype\": \"number\",\n        \"std\": 1,\n        \"min\": 0,\n        \"max\": 7,\n        \"num_unique_values\": 8,\n        \"samples\": [\n          3,\n          4\n        ],\n        \"semantic_type\": \"\",\n        \"description\": \"\"\n      }\n    },\n    {\n      \"column\": \"LeaveOrNot\",\n      \"properties\": {\n        \"dtype\": \"number\",\n        \"std\": 0,\n        \"min\": 0,\n        \"max\": 1,\n        \"num_unique_values\": 2,\n        \"samples\": [\n          1,\n          0\n        ],\n        \"semantic_type\": \"\",\n        \"description\": \"\"\n      }\n    }\n  ]\n}"
            }
          },
          "metadata": {},
          "execution_count": 36
        }
      ],
      "source": [
        "df.head()"
      ]
    },
    {
      "cell_type": "code",
      "execution_count": null,
      "metadata": {
        "colab": {
          "base_uri": "https://localhost:8080/"
        },
        "id": "lwIQYdRQ-mFI",
        "outputId": "9578f181-ea97-42be-e767-1cc3ea850d45"
      },
      "outputs": [
        {
          "output_type": "stream",
          "name": "stdout",
          "text": [
            "<class 'pandas.core.frame.DataFrame'>\n",
            "RangeIndex: 4653 entries, 0 to 4652\n",
            "Data columns (total 9 columns):\n",
            " #   Column                     Non-Null Count  Dtype \n",
            "---  ------                     --------------  ----- \n",
            " 0   Education                  4653 non-null   object\n",
            " 1   JoiningYear                4653 non-null   int64 \n",
            " 2   City                       4653 non-null   object\n",
            " 3   PaymentTier                4653 non-null   int64 \n",
            " 4   Age                        4653 non-null   int64 \n",
            " 5   Gender                     4653 non-null   object\n",
            " 6   EverBenched                4653 non-null   object\n",
            " 7   ExperienceInCurrentDomain  4653 non-null   int64 \n",
            " 8   LeaveOrNot                 4653 non-null   int64 \n",
            "dtypes: int64(5), object(4)\n",
            "memory usage: 327.3+ KB\n"
          ]
        }
      ],
      "source": [
        "df.info()"
      ]
    },
    {
      "cell_type": "code",
      "execution_count": null,
      "metadata": {
        "colab": {
          "base_uri": "https://localhost:8080/"
        },
        "id": "naz0rMxb-4nY",
        "outputId": "d328a953-a87e-44b9-a081-55d632bbc77f"
      },
      "outputs": [
        {
          "output_type": "execute_result",
          "data": {
            "text/plain": [
              "Education                    0\n",
              "JoiningYear                  0\n",
              "City                         0\n",
              "PaymentTier                  0\n",
              "Age                          0\n",
              "Gender                       0\n",
              "EverBenched                  0\n",
              "ExperienceInCurrentDomain    0\n",
              "LeaveOrNot                   0\n",
              "dtype: int64"
            ]
          },
          "metadata": {},
          "execution_count": 38
        }
      ],
      "source": [
        "df.isnull().sum()"
      ]
    },
    {
      "cell_type": "code",
      "execution_count": null,
      "metadata": {
        "colab": {
          "base_uri": "https://localhost:8080/"
        },
        "id": "Obrkr9yb-7EB",
        "outputId": "e3c3ba23-e60b-4947-9b88-2d22484dfd94"
      },
      "outputs": [
        {
          "output_type": "execute_result",
          "data": {
            "text/plain": [
              "1889"
            ]
          },
          "metadata": {},
          "execution_count": 39
        }
      ],
      "source": [
        "df.duplicated().sum()"
      ]
    },
    {
      "cell_type": "code",
      "execution_count": null,
      "metadata": {
        "id": "ayu5xcaB--8Q"
      },
      "outputs": [],
      "source": [
        "df.drop_duplicates(inplace=True)"
      ]
    },
    {
      "cell_type": "code",
      "execution_count": null,
      "metadata": {
        "colab": {
          "base_uri": "https://localhost:8080/"
        },
        "id": "MrGa9oJ1_Box",
        "outputId": "f5c85de5-3599-4b12-d36c-1eeff42c15a8"
      },
      "outputs": [
        {
          "output_type": "execute_result",
          "data": {
            "text/plain": [
              "0"
            ]
          },
          "metadata": {},
          "execution_count": 41
        }
      ],
      "source": [
        "df.duplicated().sum()"
      ]
    },
    {
      "cell_type": "code",
      "execution_count": null,
      "metadata": {
        "colab": {
          "base_uri": "https://localhost:8080/"
        },
        "id": "-JiNXeZp_EJl",
        "outputId": "2f1c8d59-391e-4724-bd6d-f974d26ad500"
      },
      "outputs": [
        {
          "output_type": "stream",
          "name": "stdout",
          "text": [
            "Statistik Deskriptif:\n",
            "       JoiningYear  PaymentTier          Age  ExperienceInCurrentDomain  \\\n",
            "count  2764.000000  2764.000000  2764.000000                2764.000000   \n",
            "mean   2015.090449     2.636035    30.952967                   2.644356   \n",
            "std       1.885943     0.624001     5.108872                   1.610610   \n",
            "min    2012.000000     1.000000    22.000000                   0.000000   \n",
            "25%    2013.000000     2.000000    27.000000                   1.000000   \n",
            "50%    2015.000000     3.000000    30.000000                   2.000000   \n",
            "75%    2017.000000     3.000000    35.000000                   4.000000   \n",
            "max    2018.000000     3.000000    41.000000                   7.000000   \n",
            "\n",
            "        LeaveOrNot  \n",
            "count  2764.000000  \n",
            "mean      0.393632  \n",
            "std       0.488643  \n",
            "min       0.000000  \n",
            "25%       0.000000  \n",
            "50%       0.000000  \n",
            "75%       1.000000  \n",
            "max       1.000000  \n"
          ]
        }
      ],
      "source": [
        "descriptive_stats=df.describe()\n",
        "print(\"Statistik Deskriptif:\")\n",
        "print(descriptive_stats)"
      ]
    },
    {
      "cell_type": "code",
      "execution_count": null,
      "metadata": {
        "colab": {
          "base_uri": "https://localhost:8080/",
          "height": 429
        },
        "id": "jtKLDke1_GfM",
        "outputId": "9ac4fac5-0c23-4643-916f-8982f84aa6d7"
      },
      "outputs": [
        {
          "output_type": "display_data",
          "data": {
            "text/plain": [
              "<Figure size 300x300 with 1 Axes>"
            ],
            "image/png": "[encoded data removed]"
          },
          "metadata": {}
        },
        {
          "output_type": "execute_result",
          "data": {
            "text/plain": [
              "Education\n",
              "Bachelors    1971\n",
              "Masters       637\n",
              "PHD           156\n",
              "Name: count, dtype: int64"
            ]
          },
          "metadata": {},
          "execution_count": 43
        }
      ],
      "source": [
        "#Distribusi Kolom Education\n",
        "plt.figure(figsize=(3,3))\n",
        "sns.countplot(x = 'Education', data = df)\n",
        "plt.title('Education Distribution')\n",
        "plt.show()\n",
        "\n",
        "df['Education'].value_counts()"
      ]
    },
    {
      "cell_type": "code",
      "execution_count": null,
      "metadata": {
        "colab": {
          "base_uri": "https://localhost:8080/",
          "height": 729
        },
        "id": "FSUPj9Ov_I5w",
        "outputId": "55a926cb-4efe-4c24-be4c-ea73bfaaadb6"
      },
      "outputs": [
        {
          "output_type": "display_data",
          "data": {
            "text/plain": [
              "<Figure size 600x600 with 1 Axes>"
            ],
            "image/png": "[encoded data removed]"
          },
          "metadata": {}
        },
        {
          "output_type": "execute_result",
          "data": {
            "text/plain": [
              "JoiningYear\n",
              "2017    662\n",
              "2015    464\n",
              "2013    396\n",
              "2014    385\n",
              "2016    310\n",
              "2012    308\n",
              "2018    239\n",
              "Name: count, dtype: int64"
            ]
          },
          "metadata": {},
          "execution_count": 44
        }
      ],
      "source": [
        "#Distribusi Kolom Joining Year\n",
        "plt.figure(figsize=(6,6))\n",
        "sns.countplot(x = 'JoiningYear', data = df)\n",
        "plt.title('Joining Year')\n",
        "plt.show()\n",
        "df['JoiningYear'].value_counts()"
      ]
    },
    {
      "cell_type": "code",
      "execution_count": null,
      "metadata": {
        "colab": {
          "base_uri": "https://localhost:8080/",
          "height": 660
        },
        "id": "yARVz4-6_MB3",
        "outputId": "30604b14-e50c-431c-a0af-0a65ee1afc2c"
      },
      "outputs": [
        {
          "output_type": "display_data",
          "data": {
            "text/plain": [
              "<Figure size 600x600 with 1 Axes>"
            ],
            "image/png": "[encoded data removed]"
          },
          "metadata": {}
        },
        {
          "output_type": "execute_result",
          "data": {
            "text/plain": [
              "City\n",
              "Bangalore    1171\n",
              "Pune          801\n",
              "New Delhi     792\n",
              "Name: count, dtype: int64"
            ]
          },
          "metadata": {},
          "execution_count": 45
        }
      ],
      "source": [
        "#Distribusi Kolom City\n",
        "plt.figure(figsize=(6,6))\n",
        "sns.countplot(x = 'City', data = df)\n",
        "plt.title('City')\n",
        "plt.show()\n",
        "df['City'].value_counts()"
      ]
    },
    {
      "cell_type": "code",
      "execution_count": null,
      "metadata": {
        "colab": {
          "base_uri": "https://localhost:8080/",
          "height": 660
        },
        "id": "4wrH41KQ_OTV",
        "outputId": "59716d6f-2ce2-4ca1-9e10-d5cf7331d534"
      },
      "outputs": [
        {
          "output_type": "display_data",
          "data": {
            "text/plain": [
              "<Figure size 600x600 with 1 Axes>"
            ],
            "image/png": "[encoded data removed]"
          },
          "metadata": {}
        },
        {
          "output_type": "execute_result",
          "data": {
            "text/plain": [
              "PaymentTier\n",
              "3    1976\n",
              "2     570\n",
              "1     218\n",
              "Name: count, dtype: int64"
            ]
          },
          "metadata": {},
          "execution_count": 46
        }
      ],
      "source": [
        "#Distribusi Kolom Payment Tier\n",
        "plt.figure(figsize=(6,6))\n",
        "sns.countplot(x = 'PaymentTier', data = df)\n",
        "plt.title('Payment Tier')\n",
        "plt.show()\n",
        "df['PaymentTier'].value_counts()"
      ]
    },
    {
      "cell_type": "code",
      "execution_count": null,
      "metadata": {
        "colab": {
          "base_uri": "https://localhost:8080/",
          "height": 764
        },
        "id": "Guapi_Bk_SZF",
        "outputId": "943473a3-b563-4106-b118-4eff8e26f564"
      },
      "outputs": [
        {
          "output_type": "stream",
          "name": "stderr",
          "text": [
            "<ipython-input-47-b6d74f1c497e>:4: UserWarning: \n",
            "\n",
            "`distplot` is a deprecated function and will be removed in seaborn v0.14.0.\n",
            "\n",
            "Please adapt your code to use either `displot` (a figure-level function with\n",
            "similar flexibility) or `histplot` (an axes-level function for histograms).\n",
            "\n",
            "For a guide to updating your code to use the new functions, please see\n",
            "https://gist.github.com/mwaskom/de44147ed2974457ad6372750bbe5751\n",
            "\n",
            "  sns.distplot(df['Age'])\n"
          ]
        },
        {
          "output_type": "display_data",
          "data": {
            "text/plain": [
              "<Figure size 600x600 with 1 Axes>"
            ],
            "image/png": "[encoded data removed]"
          },
          "metadata": {}
        }
      ],
      "source": [
        "#Distribusi Kolom Age\n",
        "sns.set()\n",
        "plt.figure(figsize=(6,6))\n",
        "sns.distplot(df['Age'])\n",
        "plt.title('Age Distribution')\n",
        "plt.show()"
      ]
    },
    {
      "cell_type": "code",
      "execution_count": null,
      "metadata": {
        "colab": {
          "base_uri": "https://localhost:8080/",
          "height": 642
        },
        "id": "gvll54m3_VqA",
        "outputId": "e88ec7d4-a56d-4d8b-a812-665411fada36"
      },
      "outputs": [
        {
          "output_type": "display_data",
          "data": {
            "text/plain": [
              "<Figure size 600x600 with 1 Axes>"
            ],
            "image/png": "[encoded data removed]"
          },
          "metadata": {}
        },
        {
          "output_type": "execute_result",
          "data": {
            "text/plain": [
              "Gender\n",
              "Male      1529\n",
              "Female    1235\n",
              "Name: count, dtype: int64"
            ]
          },
          "metadata": {},
          "execution_count": 48
        }
      ],
      "source": [
        "#Distribusi Kolom Gender\n",
        "plt.figure(figsize=(6,6))\n",
        "sns.countplot(x = 'Gender', data = df)\n",
        "plt.title('Gender Distribution')\n",
        "plt.show()\n",
        "\n",
        "df['Gender'].value_counts()"
      ]
    },
    {
      "cell_type": "code",
      "execution_count": null,
      "metadata": {
        "colab": {
          "base_uri": "https://localhost:8080/",
          "height": 642
        },
        "id": "j_lFsqxa_X34",
        "outputId": "b000446d-ccbc-41a7-aae8-7a30366b249a"
      },
      "outputs": [
        {
          "output_type": "display_data",
          "data": {
            "text/plain": [
              "<Figure size 600x600 with 1 Axes>"
            ],
            "image/png": "[encoded data removed]"
          },
          "metadata": {}
        },
        {
          "output_type": "execute_result",
          "data": {
            "text/plain": [
              "EverBenched\n",
              "No     2403\n",
              "Yes     361\n",
              "Name: count, dtype: int64"
            ]
          },
          "metadata": {},
          "execution_count": 49
        }
      ],
      "source": [
        "#Distribusi Kolom EverBenched\n",
        "plt.figure(figsize=(6,6))\n",
        "sns.countplot(x = 'EverBenched', data = df)\n",
        "plt.title('EverBenched Distribution')\n",
        "plt.show()\n",
        "\n",
        "df['EverBenched'].value_counts()"
      ]
    },
    {
      "cell_type": "code",
      "execution_count": null,
      "metadata": {
        "colab": {
          "base_uri": "https://localhost:8080/",
          "height": 747
        },
        "id": "Iy9snuI6_aMv",
        "outputId": "73eed746-8235-4562-c0e1-56d53d054db3"
      },
      "outputs": [
        {
          "output_type": "display_data",
          "data": {
            "text/plain": [
              "<Figure size 600x600 with 1 Axes>"
            ],
            "image/png": "[encoded data removed]"
          },
          "metadata": {}
        },
        {
          "output_type": "execute_result",
          "data": {
            "text/plain": [
              "ExperienceInCurrentDomain\n",
              "2    681\n",
              "5    470\n",
              "3    451\n",
              "1    433\n",
              "4    425\n",
              "0    287\n",
              "7      9\n",
              "6      8\n",
              "Name: count, dtype: int64"
            ]
          },
          "metadata": {},
          "execution_count": 50
        }
      ],
      "source": [
        "#Distribusi Kolom Experience\n",
        "plt.figure(figsize=(6,6))\n",
        "sns.countplot(x = 'ExperienceInCurrentDomain', data = df)\n",
        "plt.title('Experience Distribution')\n",
        "plt.show()\n",
        "\n",
        "df['ExperienceInCurrentDomain'].value_counts()"
      ]
    },
    {
      "cell_type": "code",
      "execution_count": null,
      "metadata": {
        "colab": {
          "base_uri": "https://localhost:8080/",
          "height": 601
        },
        "id": "ZIjl-CKc_cuk",
        "outputId": "d4456d70-9404-4c63-ede1-40218e95bdf9"
      },
      "outputs": [
        {
          "output_type": "display_data",
          "data": {
            "text/plain": [
              "<Figure size 1800x600 with 9 Axes>"
            ],
            "image/png": "[encoded data removed]"
          },
          "metadata": {}
        }
      ],
      "source": [
        "#Box plot untuk setiap kolom untuk melihat adanya data outlier\n",
        "fig, axes = plt.subplots(nrows=1, ncols=9, figsize=(18, 6))\n",
        "\n",
        "for i, col in enumerate(df.columns):\n",
        "    sns.boxplot(x=df[col], ax=axes[i])\n",
        "    axes[i].set_title(col)\n",
        "    axes[i].tick_params(axis='x', rotation=45)\n",
        "\n",
        "plt.tight_layout()\n",
        "plt.show()"
      ]
    },
    {
      "cell_type": "markdown",
      "metadata": {
        "id": "kfhuUGXT_fFm"
      },
      "source": [
        "#Preprocessing"
      ]
    },
    {
      "cell_type": "code",
      "execution_count": null,
      "metadata": {
        "colab": {
          "base_uri": "https://localhost:8080/"
        },
        "id": "RMg9BLrx_ggl",
        "outputId": "f834dc78-c879-448f-9107-e37915a74cb3"
      },
      "outputs": [
        {
          "output_type": "stream",
          "name": "stdout",
          "text": [
            "Chi-square test between Education and target:\n",
            "Chi-square statistic: 37.51437379018137\n",
            "p-value: 7.142614900414181e-09\n",
            "Degrees of freedom: 2\n",
            "\n",
            "Chi-square test between JoiningYear and target:\n",
            "Chi-square statistic: 415.94308618520535\n",
            "p-value: 1.0429432811313474e-86\n",
            "Degrees of freedom: 6\n",
            "\n",
            "Chi-square test between City and target:\n",
            "Chi-square statistic: 63.456310788157964\n",
            "p-value: 1.6620236195219495e-14\n",
            "Degrees of freedom: 2\n",
            "\n",
            "Chi-square test between PaymentTier and target:\n",
            "Chi-square statistic: 130.50117378514537\n",
            "p-value: 4.592299156674247e-29\n",
            "Degrees of freedom: 2\n",
            "\n",
            "Chi-square test between Age and target:\n",
            "Chi-square statistic: 64.21204627948077\n",
            "p-value: 8.194550405881967e-07\n",
            "Degrees of freedom: 19\n",
            "\n",
            "Chi-square test between Gender and target:\n",
            "Chi-square statistic: 99.4786554526017\n",
            "p-value: 1.982889303910607e-23\n",
            "Degrees of freedom: 1\n",
            "\n",
            "Chi-square test between EverBenched and target:\n",
            "Chi-square statistic: 3.589789188386378\n",
            "p-value: 0.05813561756538128\n",
            "Degrees of freedom: 1\n",
            "\n",
            "Chi-square test between ExperienceInCurrentDomain and target:\n",
            "Chi-square statistic: 14.095614724949803\n",
            "p-value: 0.04950665196799461\n",
            "Degrees of freedom: 7\n",
            "\n",
            "Chi-square test between LeaveOrNot and target:\n",
            "Chi-square statistic: 2759.8119817721013\n",
            "p-value: 0.0\n",
            "Degrees of freedom: 1\n",
            "\n"
          ]
        }
      ],
      "source": [
        "from scipy.stats import chi2_contingency\n",
        "\n",
        "# Lakukan uji chi-square untuk setiap fitur kategorik dan target\n",
        "results = {}\n",
        "for cat in df:\n",
        "    # Buat tabel kontingensi antara fitur prediktor dan target\n",
        "    contingency_table = pd.crosstab(df[cat], df['LeaveOrNot'])\n",
        "\n",
        "    # Lakukan uji chi-square\n",
        "    chi2_stat, p_val, dof, expected = chi2_contingency(contingency_table)\n",
        "\n",
        "    # Simpan hasil uji chi-square\n",
        "    results[cat] = {'chi2_stat': chi2_stat, 'p_val': p_val, 'dof': dof, 'expected': expected}\n",
        "\n",
        "# Tampilkan hasil\n",
        "for predictor, result in results.items():\n",
        "    print(f\"Chi-square test between {predictor} and target:\")\n",
        "    print(\"Chi-square statistic:\", result['chi2_stat'])\n",
        "    print(\"p-value:\", result['p_val'])\n",
        "    print(\"Degrees of freedom:\", result['dof'])\n",
        "    print()"
      ]
    },
    {
      "cell_type": "code",
      "execution_count": null,
      "metadata": {
        "colab": {
          "base_uri": "https://localhost:8080/"
        },
        "id": "mjlHVwmRAbZU",
        "outputId": "21aac97b-d06b-4e91-d355-4cd8e172eec4"
      },
      "outputs": [
        {
          "output_type": "stream",
          "name": "stdout",
          "text": [
            "Index(['Education', 'JoiningYear', 'City', 'PaymentTier', 'Age', 'Gender',\n",
            "       'EverBenched', 'ExperienceInCurrentDomain', 'LeaveOrNot'],\n",
            "      dtype='object')\n"
          ]
        }
      ],
      "source": [
        "print(df.columns)"
      ]
    },
    {
      "cell_type": "code",
      "execution_count": null,
      "metadata": {
        "colab": {
          "base_uri": "https://localhost:8080/"
        },
        "id": "FM0HlaJM_oE8",
        "outputId": "56c912a1-524e-4250-ee22-a29088fa5ded"
      },
      "outputs": [
        {
          "output_type": "stream",
          "name": "stdout",
          "text": [
            "\n",
            "DataFrame Gabungan setelah Preprocessing:\n",
            "      num__JoiningYear  num__PaymentTier  num__ExperienceInCurrentDomain  \\\n",
            "0             1.012701          0.583382                       -1.642132   \n",
            "1            -1.108637         -2.622319                        0.220853   \n",
            "2            -0.578303          0.583382                       -0.400142   \n",
            "3             0.482367          0.583382                        1.462843   \n",
            "4             1.012701          0.583382                       -0.400142   \n",
            "...                ...               ...                             ...   \n",
            "2759          1.012701         -1.019468                       -0.400142   \n",
            "2760          0.482367          0.583382                       -0.400142   \n",
            "2761         -1.108637         -1.019468                       -0.400142   \n",
            "2762          1.543036          0.583382                        1.462843   \n",
            "2763         -1.638972          0.583382                       -0.400142   \n",
            "\n",
            "      cat__City_New Delhi  cat__City_Pune  cat__Gender_Male  ord__Education  \\\n",
            "0                     0.0             0.0               1.0             0.0   \n",
            "1                     0.0             1.0               0.0             0.0   \n",
            "2                     1.0             0.0               0.0             0.0   \n",
            "3                     0.0             0.0               1.0             1.0   \n",
            "4                     0.0             1.0               1.0             1.0   \n",
            "...                   ...             ...               ...             ...   \n",
            "2759                  0.0             1.0               0.0             1.0   \n",
            "2760                  0.0             1.0               1.0             0.0   \n",
            "2761                  0.0             1.0               1.0             1.0   \n",
            "2762                  1.0             0.0               1.0             1.0   \n",
            "2763                  0.0             0.0               1.0             0.0   \n",
            "\n",
            "      ord__EverBenched  LeaveOrNot  \n",
            "0                  0.0           0  \n",
            "1                  0.0           1  \n",
            "2                  0.0           0  \n",
            "3                  0.0           1  \n",
            "4                  1.0           1  \n",
            "...                ...         ...  \n",
            "2759               0.0           0  \n",
            "2760               0.0           0  \n",
            "2761               0.0           1  \n",
            "2762               0.0           1  \n",
            "2763               1.0           0  \n",
            "\n",
            "[2764 rows x 9 columns]\n"
          ]
        }
      ],
      "source": [
        "import pandas as pd\n",
        "from sklearn.preprocessing import LabelEncoder, StandardScaler, OneHotEncoder\n",
        "from sklearn.pipeline import Pipeline\n",
        "from sklearn.compose import ColumnTransformer\n",
        "from sklearn.impute import SimpleImputer\n",
        "from sklearn.base import TransformerMixin, BaseEstimator\n",
        "import numpy as np\n",
        "\n",
        "# Label Encoder untuk kolom ordinal\n",
        "class MultiColumnLabelEncoder(BaseEstimator, TransformerMixin):\n",
        "    def __init__(self, columns=None):\n",
        "        self.columns = columns  # array of column names to encode\n",
        "        self.encoders = {col: LabelEncoder() for col in columns}\n",
        "\n",
        "    def fit(self, X, y=None):\n",
        "        for col in self.columns:\n",
        "            self.encoders[col].fit(X[col])\n",
        "        return self\n",
        "\n",
        "    def transform(self, X, y=None):\n",
        "        output = X.copy()\n",
        "        for col in self.columns:\n",
        "            output[col] = self.encoders[col].transform(output[col])\n",
        "        return output\n",
        "\n",
        "    def get_feature_names_out(self, input_features=None):\n",
        "        return self.columns if self.columns is not None else input_features\n",
        "\n",
        "# Menentukan fitur numerik dan kategori\n",
        "numeric_features = ['JoiningYear', 'PaymentTier','ExperienceInCurrentDomain']\n",
        "categorical_features = ['City', 'Gender']\n",
        "ordinal_features = ['Education', 'EverBenched']\n",
        "\n",
        "# Preprocessing untuk fitur numerik (imputasi dan standardisasi)\n",
        "numeric_transformer = Pipeline(steps=[\n",
        "    ('scaler', StandardScaler())\n",
        "])\n",
        "\n",
        "# Preprocessing untuk fitur kategori (One-Hot Encoding)\n",
        "categorical_transformer = Pipeline(steps=[\n",
        "    ('encoder', OneHotEncoder(drop='first'))\n",
        "])\n",
        "\n",
        "# Preprocessing untuk fitur ordinal (Label Encoding)\n",
        "ordinal_transformer = Pipeline(steps=[\n",
        "    ('label_encoder', MultiColumnLabelEncoder(columns=ordinal_features))\n",
        "])\n",
        "\n",
        "# Menggabungkan preprocessing untuk numerik, kategori, dan ordinal\n",
        "preprocessor = ColumnTransformer(\n",
        "    transformers=[\n",
        "        ('num', numeric_transformer, numeric_features),\n",
        "        ('cat', categorical_transformer, categorical_features),\n",
        "        ('ord', ordinal_transformer, ordinal_features)\n",
        "    ])\n",
        "\n",
        "# Memisahkan fitur dan target\n",
        "X = df.drop('LeaveOrNot', axis=1)\n",
        "y = df['LeaveOrNot']\n",
        "\n",
        "# Membangun pipeline dengan preprocessing dan model (Logistic Regression)\n",
        "prepro = Pipeline(steps=[\n",
        "    ('preprocessor', preprocessor)\n",
        "])\n",
        "\n",
        "# Melatih model\n",
        "prepro.fit(X, y)\n",
        "\n",
        "# Menggabungkan hasil preprocessing dengan data asli untuk analisis lebih lanjut\n",
        "X_transformed = prepro.named_steps['preprocessor'].transform(X)\n",
        "df = pd.DataFrame(X_transformed, columns=preprocessor.get_feature_names_out())\n",
        "df['LeaveOrNot'] = y.values\n",
        "\n",
        "print(\"\\nDataFrame Gabungan setelah Preprocessing:\")\n",
        "print(df)"
      ]
    },
    {
      "cell_type": "markdown",
      "metadata": {
        "id": "Tzp4OfBDAvcy"
      },
      "source": [
        "#Pembagian data"
      ]
    },
    {
      "cell_type": "code",
      "execution_count": null,
      "metadata": {
        "id": "Dzu19lSUA4rq"
      },
      "outputs": [],
      "source": [
        "from imblearn.over_sampling import SMOTE"
      ]
    },
    {
      "cell_type": "code",
      "execution_count": null,
      "metadata": {
        "id": "DTgHEd_6AxTZ"
      },
      "outputs": [],
      "source": [
        "# Pembagian data dari kolom \"LeaveOrNot\"\n",
        "\n",
        "X = df.drop(columns=\"LeaveOrNot\", axis=1)\n",
        "y = df['LeaveOrNot']\n",
        "\n",
        "X_train, X_test, y_train, y_test = train_test_split(X, y, random_state=42, test_size=0.25, stratify=y)"
      ]
    },
    {
      "cell_type": "code",
      "execution_count": null,
      "metadata": {
        "colab": {
          "base_uri": "https://localhost:8080/"
        },
        "id": "DqYHCezpA9C3",
        "outputId": "4792a288-9740-4109-a898-2ce37c863896"
      },
      "outputs": [
        {
          "output_type": "stream",
          "name": "stdout",
          "text": [
            "(2764, 8)\n",
            "(2764,)\n"
          ]
        }
      ],
      "source": [
        "print(X.shape)\n",
        "print(y.shape)"
      ]
    },
    {
      "cell_type": "code",
      "execution_count": null,
      "metadata": {
        "id": "LjxFci_oBA6Z"
      },
      "outputs": [],
      "source": [
        "sm = SMOTE(random_state=30)\n",
        "X_sampling, y_sampling = sm.fit_resample(X,y)"
      ]
    },
    {
      "cell_type": "code",
      "execution_count": null,
      "metadata": {
        "colab": {
          "base_uri": "https://localhost:8080/"
        },
        "id": "eQ_WnxYCBFJz",
        "outputId": "52d23312-5f75-43f8-e7a6-b390cf8b7e7a"
      },
      "outputs": [
        {
          "output_type": "stream",
          "name": "stdout",
          "text": [
            "(3352, 8)\n",
            "(3352,)\n"
          ]
        }
      ],
      "source": [
        "print(X_sampling.shape)\n",
        "print(y_sampling.shape)"
      ]
    },
    {
      "cell_type": "code",
      "execution_count": null,
      "metadata": {
        "colab": {
          "base_uri": "https://localhost:8080/",
          "height": 424
        },
        "id": "dq3t_r8WBHAM",
        "outputId": "7bbfe80b-c676-4eed-d1cf-504fa54797b8"
      },
      "outputs": [
        {
          "output_type": "execute_result",
          "data": {
            "text/plain": [
              "      num__JoiningYear  num__PaymentTier  num__ExperienceInCurrentDomain  \\\n",
              "0             1.012701          0.583382                       -1.642132   \n",
              "1            -1.108637         -2.622319                        0.220853   \n",
              "2            -0.578303          0.583382                       -0.400142   \n",
              "3             0.482367          0.583382                        1.462843   \n",
              "4             1.012701          0.583382                       -0.400142   \n",
              "...                ...               ...                             ...   \n",
              "3347         -1.108637         -1.019468                        0.765101   \n",
              "3348          1.543036          0.583382                       -0.400142   \n",
              "3349          1.543036          0.583382                        1.462843   \n",
              "3350         -0.047968         -1.019468                       -0.400142   \n",
              "3351         -1.050830         -1.019468                       -1.642132   \n",
              "\n",
              "      cat__City_New Delhi  cat__City_Pune  cat__Gender_Male  ord__Education  \\\n",
              "0                0.000000             0.0               1.0             0.0   \n",
              "1                0.000000             1.0               0.0             0.0   \n",
              "2                1.000000             0.0               0.0             0.0   \n",
              "3                0.000000             0.0               1.0             1.0   \n",
              "4                0.000000             1.0               1.0             1.0   \n",
              "...                   ...             ...               ...             ...   \n",
              "3347             1.000000             0.0               0.0             0.0   \n",
              "3348             1.000000             0.0               1.0             1.0   \n",
              "3349             0.355113             0.0               1.0             1.0   \n",
              "3350             0.000000             1.0               0.0             0.0   \n",
              "3351             0.000000             1.0               0.0             0.0   \n",
              "\n",
              "      ord__EverBenched  \n",
              "0                  0.0  \n",
              "1                  0.0  \n",
              "2                  0.0  \n",
              "3                  0.0  \n",
              "4                  1.0  \n",
              "...                ...  \n",
              "3347               0.0  \n",
              "3348               0.0  \n",
              "3349               1.0  \n",
              "3350               1.0  \n",
              "3351               0.0  \n",
              "\n",
              "[3352 rows x 8 columns]"
            ],
            "text/html": [
              "\n",
              "  <div id=\"df-4de4ff05-6f36-4881-8107-90937d3460d2\" class=\"colab-df-container\">\n",
              "    <div>\n",
              "<style scoped>\n",
              "    .dataframe tbody tr th:only-of-type {\n",
              "        vertical-align: middle;\n",
              "    }\n",
              "\n",
              "    .dataframe tbody tr th {\n",
              "        vertical-align: top;\n",
              "    }\n",
              "\n",
              "    .dataframe thead th {\n",
              "        text-align: right;\n",
              "    }\n",
              "</style>\n",
              "<table border=\"1\" class=\"dataframe\">\n",
              "  <thead>\n",
              "    <tr style=\"text-align: right;\">\n",
              "      <th></th>\n",
              "      <th>num__JoiningYear</th>\n",
              "      <th>num__PaymentTier</th>\n",
              "      <th>num__ExperienceInCurrentDomain</th>\n",
              "      <th>cat__City_New Delhi</th>\n",
              "      <th>cat__City_Pune</th>\n",
              "      <th>cat__Gender_Male</th>\n",
              "      <th>ord__Education</th>\n",
              "      <th>ord__EverBenched</th>\n",
              "    </tr>\n",
              "  </thead>\n",
              "  <tbody>\n",
              "    <tr>\n",
              "      <th>0</th>\n",
              "      <td>1.012701</td>\n",
              "      <td>0.583382</td>\n",
              "      <td>-1.642132</td>\n",
              "      <td>0.000000</td>\n",
              "      <td>0.0</td>\n",
              "      <td>1.0</td>\n",
              "      <td>0.0</td>\n",
              "      <td>0.0</td>\n",
              "    </tr>\n",
              "    <tr>\n",
              "      <th>1</th>\n",
              "      <td>-1.108637</td>\n",
              "      <td>-2.622319</td>\n",
              "      <td>0.220853</td>\n",
              "      <td>0.000000</td>\n",
              "      <td>1.0</td>\n",
              "      <td>0.0</td>\n",
              "      <td>0.0</td>\n",
              "      <td>0.0</td>\n",
              "    </tr>\n",
              "    <tr>\n",
              "      <th>2</th>\n",
              "      <td>-0.578303</td>\n",
              "      <td>0.583382</td>\n",
              "      <td>-0.400142</td>\n",
              "      <td>1.000000</td>\n",
              "      <td>0.0</td>\n",
              "      <td>0.0</td>\n",
              "      <td>0.0</td>\n",
              "      <td>0.0</td>\n",
              "    </tr>\n",
              "    <tr>\n",
              "      <th>3</th>\n",
              "      <td>0.482367</td>\n",
              "      <td>0.583382</td>\n",
              "      <td>1.462843</td>\n",
              "      <td>0.000000</td>\n",
              "      <td>0.0</td>\n",
              "      <td>1.0</td>\n",
              "      <td>1.0</td>\n",
              "      <td>0.0</td>\n",
              "    </tr>\n",
              "    <tr>\n",
              "      <th>4</th>\n",
              "      <td>1.012701</td>\n",
              "      <td>0.583382</td>\n",
              "      <td>-0.400142</td>\n",
              "      <td>0.000000</td>\n",
              "      <td>1.0</td>\n",
              "      <td>1.0</td>\n",
              "      <td>1.0</td>\n",
              "      <td>1.0</td>\n",
              "    </tr>\n",
              "    <tr>\n",
              "      <th>...</th>\n",
              "      <td>...</td>\n",
              "      <td>...</td>\n",
              "      <td>...</td>\n",
              "      <td>...</td>\n",
              "      <td>...</td>\n",
              "      <td>...</td>\n",
              "      <td>...</td>\n",
              "      <td>...</td>\n",
              "    </tr>\n",
              "    <tr>\n",
              "      <th>3347</th>\n",
              "      <td>-1.108637</td>\n",
              "      <td>-1.019468</td>\n",
              "      <td>0.765101</td>\n",
              "      <td>1.000000</td>\n",
              "      <td>0.0</td>\n",
              "      <td>0.0</td>\n",
              "      <td>0.0</td>\n",
              "      <td>0.0</td>\n",
              "    </tr>\n",
              "    <tr>\n",
              "      <th>3348</th>\n",
              "      <td>1.543036</td>\n",
              "      <td>0.583382</td>\n",
              "      <td>-0.400142</td>\n",
              "      <td>1.000000</td>\n",
              "      <td>0.0</td>\n",
              "      <td>1.0</td>\n",
              "      <td>1.0</td>\n",
              "      <td>0.0</td>\n",
              "    </tr>\n",
              "    <tr>\n",
              "      <th>3349</th>\n",
              "      <td>1.543036</td>\n",
              "      <td>0.583382</td>\n",
              "      <td>1.462843</td>\n",
              "      <td>0.355113</td>\n",
              "      <td>0.0</td>\n",
              "      <td>1.0</td>\n",
              "      <td>1.0</td>\n",
              "      <td>1.0</td>\n",
              "    </tr>\n",
              "    <tr>\n",
              "      <th>3350</th>\n",
              "      <td>-0.047968</td>\n",
              "      <td>-1.019468</td>\n",
              "      <td>-0.400142</td>\n",
              "      <td>0.000000</td>\n",
              "      <td>1.0</td>\n",
              "      <td>0.0</td>\n",
              "      <td>0.0</td>\n",
              "      <td>1.0</td>\n",
              "    </tr>\n",
              "    <tr>\n",
              "      <th>3351</th>\n",
              "      <td>-1.050830</td>\n",
              "      <td>-1.019468</td>\n",
              "      <td>-1.642132</td>\n",
              "      <td>0.000000</td>\n",
              "      <td>1.0</td>\n",
              "      <td>0.0</td>\n",
              "      <td>0.0</td>\n",
              "      <td>0.0</td>\n",
              "    </tr>\n",
              "  </tbody>\n",
              "</table>\n",
              "<p>3352 rows × 8 columns</p>\n",
              "</div>\n",
              "    <div class=\"colab-df-buttons\">\n",
              "\n",
              "  <div class=\"colab-df-container\">\n",
              "    <button class=\"colab-df-convert\" onclick=\"convertToInteractive('df-4de4ff05-6f36-4881-8107-90937d3460d2')\"\n",
              "            title=\"Convert this dataframe to an interactive table.\"\n",
              "            style=\"display:none;\">\n",
              "\n",
              "  <svg xmlns=\"http://www.w3.org/2000/svg\" height=\"24px\" viewBox=\"0 -960 960 960\">\n",
              "    <path d=\"M120-120v-720h720v720H120Zm60-500h600v-160H180v160Zm220 220h160v-160H400v160Zm0 220h160v-160H400v160ZM180-400h160v-160H180v160Zm440 0h160v-160H620v160ZM180-180h160v-160H180v160Zm440 0h160v-160H620v160Z\"/>\n",
              "  </svg>\n",
              "    </button>\n",
              "\n",
              "  <style>\n",
              "    .colab-df-container {\n",
              "      display:flex;\n",
              "      gap: 12px;\n",
              "    }\n",
              "\n",
              "    .colab-df-convert {\n",
              "      background-color: #E8F0FE;\n",
              "      border: none;\n",
              "      border-radius: 50%;\n",
              "      cursor: pointer;\n",
              "      display: none;\n",
              "      fill: #1967D2;\n",
              "      height: 32px;\n",
              "      padding: 0 0 0 0;\n",
              "      width: 32px;\n",
              "    }\n",
              "\n",
              "    .colab-df-convert:hover {\n",
              "      background-color: #E2EBFA;\n",
              "      box-shadow: 0px 1px 2px rgba(60, 64, 67, 0.3), 0px 1px 3px 1px rgba(60, 64, 67, 0.15);\n",
              "      fill: #174EA6;\n",
              "    }\n",
              "\n",
              "    .colab-df-buttons div {\n",
              "      margin-bottom: 4px;\n",
              "    }\n",
              "\n",
              "    [theme=dark] .colab-df-convert {\n",
              "      background-color: #3B4455;\n",
              "      fill: #D2E3FC;\n",
              "    }\n",
              "\n",
              "    [theme=dark] .colab-df-convert:hover {\n",
              "      background-color: #434B5C;\n",
              "      box-shadow: 0px 1px 3px 1px rgba(0, 0, 0, 0.15);\n",
              "      filter: drop-shadow(0px 1px 2px rgba(0, 0, 0, 0.3));\n",
              "      fill: #FFFFFF;\n",
              "    }\n",
              "  </style>\n",
              "\n",
              "    <script>\n",
              "      const buttonEl =\n",
              "        document.querySelector('#df-4de4ff05-6f36-4881-8107-90937d3460d2 button.colab-df-convert');\n",
              "      buttonEl.style.display =\n",
              "        google.colab.kernel.accessAllowed ? 'block' : 'none';\n",
              "\n",
              "      async function convertToInteractive(key) {\n",
              "        const element = document.querySelector('#df-4de4ff05-6f36-4881-8107-90937d3460d2');\n",
              "        const dataTable =\n",
              "          await google.colab.kernel.invokeFunction('convertToInteractive',\n",
              "                                                    [key], {});\n",
              "        if (!dataTable) return;\n",
              "\n",
              "        const docLinkHtml = 'Like what you see? Visit the ' +\n",
              "          '<a target=\"_blank\" href=https://colab.research.google.com/notebooks/data_table.ipynb>data table notebook</a>'\n",
              "          + ' to learn more about interactive tables.';\n",
              "        element.innerHTML = '';\n",
              "        dataTable['output_type'] = 'display_data';\n",
              "        await google.colab.output.renderOutput(dataTable, element);\n",
              "        const docLink = document.createElement('div');\n",
              "        docLink.innerHTML = docLinkHtml;\n",
              "        element.appendChild(docLink);\n",
              "      }\n",
              "    </script>\n",
              "  </div>\n",
              "\n",
              "\n",
              "<div id=\"df-7c03bb17-5b2d-48a9-b1c0-f570c6903bd9\">\n",
              "  <button class=\"colab-df-quickchart\" onclick=\"quickchart('df-7c03bb17-5b2d-48a9-b1c0-f570c6903bd9')\"\n",
              "            title=\"Suggest charts\"\n",
              "            style=\"display:none;\">\n",
              "\n",
              "<svg xmlns=\"http://www.w3.org/2000/svg\" height=\"24px\"viewBox=\"0 0 24 24\"\n",
              "     width=\"24px\">\n",
              "    <g>\n",
              "        <path d=\"M19 3H5c-1.1 0-2 .9-2 2v14c0 1.1.9 2 2 2h14c1.1 0 2-.9 2-2V5c0-1.1-.9-2-2-2zM9 17H7v-7h2v7zm4 0h-2V7h2v10zm4 0h-2v-4h2v4z\"/>\n",
              "    </g>\n",
              "</svg>\n",
              "  </button>\n",
              "\n",
              "<style>\n",
              "  .colab-df-quickchart {\n",
              "      --bg-color: #E8F0FE;\n",
              "      --fill-color: #1967D2;\n",
              "      --hover-bg-color: #E2EBFA;\n",
              "      --hover-fill-color: #174EA6;\n",
              "      --disabled-fill-color: #AAA;\n",
              "      --disabled-bg-color: #DDD;\n",
              "  }\n",
              "\n",
              "  [theme=dark] .colab-df-quickchart {\n",
              "      --bg-color: #3B4455;\n",
              "      --fill-color: #D2E3FC;\n",
              "      --hover-bg-color: #434B5C;\n",
              "      --hover-fill-color: #FFFFFF;\n",
              "      --disabled-bg-color: #3B4455;\n",
              "      --disabled-fill-color: #666;\n",
              "  }\n",
              "\n",
              "  .colab-df-quickchart {\n",
              "    background-color: var(--bg-color);\n",
              "    border: none;\n",
              "    border-radius: 50%;\n",
              "    cursor: pointer;\n",
              "    display: none;\n",
              "    fill: var(--fill-color);\n",
              "    height: 32px;\n",
              "    padding: 0;\n",
              "    width: 32px;\n",
              "  }\n",
              "\n",
              "  .colab-df-quickchart:hover {\n",
              "    background-color: var(--hover-bg-color);\n",
              "    box-shadow: 0 1px 2px rgba(60, 64, 67, 0.3), 0 1px 3px 1px rgba(60, 64, 67, 0.15);\n",
              "    fill: var(--button-hover-fill-color);\n",
              "  }\n",
              "\n",
              "  .colab-df-quickchart-complete:disabled,\n",
              "  .colab-df-quickchart-complete:disabled:hover {\n",
              "    background-color: var(--disabled-bg-color);\n",
              "    fill: var(--disabled-fill-color);\n",
              "    box-shadow: none;\n",
              "  }\n",
              "\n",
              "  .colab-df-spinner {\n",
              "    border: 2px solid var(--fill-color);\n",
              "    border-color: transparent;\n",
              "    border-bottom-color: var(--fill-color);\n",
              "    animation:\n",
              "      spin 1s steps(1) infinite;\n",
              "  }\n",
              "\n",
              "  @keyframes spin {\n",
              "    0% {\n",
              "      border-color: transparent;\n",
              "      border-bottom-color: var(--fill-color);\n",
              "      border-left-color: var(--fill-color);\n",
              "    }\n",
              "    20% {\n",
              "      border-color: transparent;\n",
              "      border-left-color: var(--fill-color);\n",
              "      border-top-color: var(--fill-color);\n",
              "    }\n",
              "    30% {\n",
              "      border-color: transparent;\n",
              "      border-left-color: var(--fill-color);\n",
              "      border-top-color: var(--fill-color);\n",
              "      border-right-color: var(--fill-color);\n",
              "    }\n",
              "    40% {\n",
              "      border-color: transparent;\n",
              "      border-right-color: var(--fill-color);\n",
              "      border-top-color: var(--fill-color);\n",
              "    }\n",
              "    60% {\n",
              "      border-color: transparent;\n",
              "      border-right-color: var(--fill-color);\n",
              "    }\n",
              "    80% {\n",
              "      border-color: transparent;\n",
              "      border-right-color: var(--fill-color);\n",
              "      border-bottom-color: var(--fill-color);\n",
              "    }\n",
              "    90% {\n",
              "      border-color: transparent;\n",
              "      border-bottom-color: var(--fill-color);\n",
              "    }\n",
              "  }\n",
              "</style>\n",
              "\n",
              "  <script>\n",
              "    async function quickchart(key) {\n",
              "      const quickchartButtonEl =\n",
              "        document.querySelector('#' + key + ' button');\n",
              "      quickchartButtonEl.disabled = true;  // To prevent multiple clicks.\n",
              "      quickchartButtonEl.classList.add('colab-df-spinner');\n",
              "      try {\n",
              "        const charts = await google.colab.kernel.invokeFunction(\n",
              "            'suggestCharts', [key], {});\n",
              "      } catch (error) {\n",
              "        console.error('Error during call to suggestCharts:', error);\n",
              "      }\n",
              "      quickchartButtonEl.classList.remove('colab-df-spinner');\n",
              "      quickchartButtonEl.classList.add('colab-df-quickchart-complete');\n",
              "    }\n",
              "    (() => {\n",
              "      let quickchartButtonEl =\n",
              "        document.querySelector('#df-7c03bb17-5b2d-48a9-b1c0-f570c6903bd9 button');\n",
              "      quickchartButtonEl.style.display =\n",
              "        google.colab.kernel.accessAllowed ? 'block' : 'none';\n",
              "    })();\n",
              "  </script>\n",
              "</div>\n",
              "\n",
              "  <div id=\"id_483537e6-3797-47f3-9fef-f5bedbeae416\">\n",
              "    <style>\n",
              "      .colab-df-generate {\n",
              "        background-color: #E8F0FE;\n",
              "        border: none;\n",
              "        border-radius: 50%;\n",
              "        cursor: pointer;\n",
              "        display: none;\n",
              "        fill: #1967D2;\n",
              "        height: 32px;\n",
              "        padding: 0 0 0 0;\n",
              "        width: 32px;\n",
              "      }\n",
              "\n",
              "      .colab-df-generate:hover {\n",
              "        background-color: #E2EBFA;\n",
              "        box-shadow: 0px 1px 2px rgba(60, 64, 67, 0.3), 0px 1px 3px 1px rgba(60, 64, 67, 0.15);\n",
              "        fill: #174EA6;\n",
              "      }\n",
              "\n",
              "      [theme=dark] .colab-df-generate {\n",
              "        background-color: #3B4455;\n",
              "        fill: #D2E3FC;\n",
              "      }\n",
              "\n",
              "      [theme=dark] .colab-df-generate:hover {\n",
              "        background-color: #434B5C;\n",
              "        box-shadow: 0px 1px 3px 1px rgba(0, 0, 0, 0.15);\n",
              "        filter: drop-shadow(0px 1px 2px rgba(0, 0, 0, 0.3));\n",
              "        fill: #FFFFFF;\n",
              "      }\n",
              "    </style>\n",
              "    <button class=\"colab-df-generate\" onclick=\"generateWithVariable('X_sampling')\"\n",
              "            title=\"Generate code using this dataframe.\"\n",
              "            style=\"display:none;\">\n",
              "\n",
              "  <svg xmlns=\"http://www.w3.org/2000/svg\" height=\"24px\"viewBox=\"0 0 24 24\"\n",
              "       width=\"24px\">\n",
              "    <path d=\"M7,19H8.4L18.45,9,17,7.55,7,17.6ZM5,21V16.75L18.45,3.32a2,2,0,0,1,2.83,0l1.4,1.43a1.91,1.91,0,0,1,.58,1.4,1.91,1.91,0,0,1-.58,1.4L9.25,21ZM18.45,9,17,7.55Zm-12,3A5.31,5.31,0,0,0,4.9,8.1,5.31,5.31,0,0,0,1,6.5,5.31,5.31,0,0,0,4.9,4.9,5.31,5.31,0,0,0,6.5,1,5.31,5.31,0,0,0,8.1,4.9,5.31,5.31,0,0,0,12,6.5,5.46,5.46,0,0,0,6.5,12Z\"/>\n",
              "  </svg>\n",
              "    </button>\n",
              "    <script>\n",
              "      (() => {\n",
              "      const buttonEl =\n",
              "        document.querySelector('#id_483537e6-3797-47f3-9fef-f5bedbeae416 button.colab-df-generate');\n",
              "      buttonEl.style.display =\n",
              "        google.colab.kernel.accessAllowed ? 'block' : 'none';\n",
              "\n",
              "      buttonEl.onclick = () => {\n",
              "        google.colab.notebook.generateWithVariable('X_sampling');\n",
              "      }\n",
              "      })();\n",
              "    </script>\n",
              "  </div>\n",
              "\n",
              "    </div>\n",
              "  </div>\n"
            ],
            "application/vnd.google.colaboratory.intrinsic+json": {
              "type": "dataframe",
              "variable_name": "X_sampling",
              "summary": "{\n  \"name\": \"X_sampling\",\n  \"rows\": 3352,\n  \"fields\": [\n    {\n      \"column\": \"num__JoiningYear\",\n      \"properties\": {\n        \"dtype\": \"number\",\n        \"std\": 1.0094320487513684,\n        \"min\": -1.6389718698025337,\n        \"max\": 1.5430357968803528,\n        \"num_unique_values\": 241,\n        \"samples\": [\n          -1.6042950209268045,\n          1.5430357968803528,\n          -0.3627418108139027\n        ],\n        \"semantic_type\": \"\",\n        \"description\": \"\"\n      }\n    },\n    {\n      \"column\": \"num__PaymentTier\",\n      \"properties\": {\n        \"dtype\": \"number\",\n        \"std\": 1.003350612694401,\n        \"min\": -2.6223187889751,\n        \"max\": 0.5833818446945929,\n        \"num_unique_values\": 3,\n        \"samples\": [\n          0.5833818446945929,\n          -2.6223187889751,\n          -1.0194684721402534\n        ],\n        \"semantic_type\": \"\",\n        \"description\": \"\"\n      }\n    },\n    {\n      \"column\": \"num__ExperienceInCurrentDomain\",\n      \"properties\": {\n        \"dtype\": \"number\",\n        \"std\": 0.9870526886092605,\n        \"min\": -1.642131992252104,\n        \"max\": 2.7048333636233526,\n        \"num_unique_values\": 168,\n        \"samples\": [\n          0.6831763789391545,\n          -0.07829809523860859,\n          0.5827417377889821\n        ],\n        \"semantic_type\": \"\",\n        \"description\": \"\"\n      }\n    },\n    {\n      \"column\": \"cat__City_New Delhi\",\n      \"properties\": {\n        \"dtype\": \"number\",\n        \"std\": 0.44624588421952466,\n        \"min\": 0.0,\n        \"max\": 1.0,\n        \"num_unique_values\": 19,\n        \"samples\": [\n          0.0,\n          0.09618028642972243,\n          0.9583544745358749\n        ],\n        \"semantic_type\": \"\",\n        \"description\": \"\"\n      }\n    },\n    {\n      \"column\": \"cat__City_Pune\",\n      \"properties\": {\n        \"dtype\": \"number\",\n        \"std\": 0.4594374151142149,\n        \"min\": 0.0,\n        \"max\": 1.0,\n        \"num_unique_values\": 18,\n        \"samples\": [\n          0.0,\n          1.0,\n          0.32610052681528967\n        ],\n        \"semantic_type\": \"\",\n        \"description\": \"\"\n      }\n    },\n    {\n      \"column\": \"cat__Gender_Male\",\n      \"properties\": {\n        \"dtype\": \"number\",\n        \"std\": 0.4983936667420143,\n        \"min\": 0.0,\n        \"max\": 1.0,\n        \"num_unique_values\": 18,\n        \"samples\": [\n          1.0,\n          0.0,\n          0.24378272435174486\n        ],\n        \"semantic_type\": \"\",\n        \"description\": \"\"\n      }\n    },\n    {\n      \"column\": \"ord__Education\",\n      \"properties\": {\n        \"dtype\": \"number\",\n        \"std\": 0.5719401665151591,\n        \"min\": 0.0,\n        \"max\": 2.0,\n        \"num_unique_values\": 43,\n        \"samples\": [\n          0.7177864906553638,\n          0.9533840582137295,\n          0.9022232902939725\n        ],\n        \"semantic_type\": \"\",\n        \"description\": \"\"\n      }\n    },\n    {\n      \"column\": \"ord__EverBenched\",\n      \"properties\": {\n        \"dtype\": \"number\",\n        \"std\": 0.3310559654916385,\n        \"min\": 0.0,\n        \"max\": 1.0,\n        \"num_unique_values\": 17,\n        \"samples\": [\n          0.0,\n          1.0,\n          0.5897663937348597\n        ],\n        \"semantic_type\": \"\",\n        \"description\": \"\"\n      }\n    }\n  ]\n}"
            }
          },
          "metadata": {},
          "execution_count": 29
        }
      ],
      "source": [
        "X_sampling"
      ]
    },
    {
      "cell_type": "code",
      "execution_count": null,
      "metadata": {
        "colab": {
          "base_uri": "https://localhost:8080/"
        },
        "id": "THbkaOCcBLv1",
        "outputId": "b7c94905-7d38-4d03-8ae1-8c08d22340ed"
      },
      "outputs": [
        {
          "output_type": "execute_result",
          "data": {
            "text/plain": [
              "0       0\n",
              "1       1\n",
              "2       0\n",
              "3       1\n",
              "4       1\n",
              "       ..\n",
              "3347    1\n",
              "3348    1\n",
              "3349    1\n",
              "3350    1\n",
              "3351    1\n",
              "Name: LeaveOrNot, Length: 3352, dtype: int64"
            ]
          },
          "metadata": {},
          "execution_count": 30
        }
      ],
      "source": [
        "y_sampling"
      ]
    },
    {
      "cell_type": "markdown",
      "metadata": {
        "id": "Ln6MQHmdBQGK"
      },
      "source": [
        "#Pemodelan"
      ]
    },
    {
      "cell_type": "code",
      "execution_count": null,
      "metadata": {
        "colab": {
          "base_uri": "https://localhost:8080/"
        },
        "id": "Kj8mOXaXBRam",
        "outputId": "cba90985-40cc-4e04-c0a9-d1255dab311f"
      },
      "outputs": [
        {
          "output_type": "stream",
          "name": "stdout",
          "text": [
            "\n",
            "=== Evaluasi Model Logistic Regression ===\n",
            "              precision    recall  f1-score   support\n",
            "\n",
            "           0       0.73      0.67      0.70       419\n",
            "           1       0.55      0.62      0.59       272\n",
            "\n",
            "    accuracy                           0.65       691\n",
            "   macro avg       0.64      0.65      0.64       691\n",
            "weighted avg       0.66      0.65      0.65       691\n",
            "\n",
            "\n",
            "=== Evaluasi Model K-Nearest Neighbors ===\n",
            "              precision    recall  f1-score   support\n",
            "\n",
            "           0       0.84      0.92      0.87       419\n",
            "           1       0.85      0.72      0.78       272\n",
            "\n",
            "    accuracy                           0.84       691\n",
            "   macro avg       0.84      0.82      0.83       691\n",
            "weighted avg       0.84      0.84      0.84       691\n",
            "\n",
            "\n",
            "=== Evaluasi Model Random Forest ===\n",
            "              precision    recall  f1-score   support\n",
            "\n",
            "           0       0.85      0.95      0.90       419\n",
            "           1       0.91      0.75      0.82       272\n",
            "\n",
            "    accuracy                           0.87       691\n",
            "   macro avg       0.88      0.85      0.86       691\n",
            "weighted avg       0.87      0.87      0.87       691\n",
            "\n",
            "\n",
            "=== Evaluasi Model Support Vector Machine ===\n",
            "              precision    recall  f1-score   support\n",
            "\n",
            "           0       0.80      0.94      0.86       419\n",
            "           1       0.87      0.64      0.74       272\n",
            "\n",
            "    accuracy                           0.82       691\n",
            "   macro avg       0.84      0.79      0.80       691\n",
            "weighted avg       0.83      0.82      0.81       691\n",
            "\n",
            "\n",
            "=== Evaluasi Model Naive Bayes ===\n",
            "              precision    recall  f1-score   support\n",
            "\n",
            "           0       0.72      0.69      0.71       419\n",
            "           1       0.56      0.59      0.57       272\n",
            "\n",
            "    accuracy                           0.65       691\n",
            "   macro avg       0.64      0.64      0.64       691\n",
            "weighted avg       0.66      0.65      0.66       691\n",
            "\n",
            "\n",
            "=== Evaluasi Model Decision Tree ===\n",
            "              precision    recall  f1-score   support\n",
            "\n",
            "           0       0.84      0.97      0.90       419\n",
            "           1       0.94      0.72      0.81       272\n",
            "\n",
            "    accuracy                           0.87       691\n",
            "   macro avg       0.89      0.84      0.86       691\n",
            "weighted avg       0.88      0.87      0.87       691\n",
            "\n"
          ]
        }
      ],
      "source": [
        "from sklearn.linear_model import LogisticRegression\n",
        "from sklearn.neighbors import KNeighborsClassifier\n",
        "from sklearn.ensemble import RandomForestClassifier\n",
        "from sklearn.svm import SVC\n",
        "from sklearn.naive_bayes import GaussianNB\n",
        "from sklearn.tree import DecisionTreeClassifier\n",
        "from sklearn.metrics import classification_report\n",
        "\n",
        "# Inisialisasi model-model\n",
        "models = {\n",
        "    \"Logistic Regression\": LogisticRegression(),\n",
        "    \"K-Nearest Neighbors\": KNeighborsClassifier(),\n",
        "    \"Random Forest\": RandomForestClassifier(),\n",
        "    \"Support Vector Machine\": SVC(),\n",
        "    \"Naive Bayes\": GaussianNB(),\n",
        "    \"Decision Tree\": DecisionTreeClassifier()\n",
        "}\n",
        "\n",
        "# Melatih dan mengevaluasi setiap model\n",
        "for model_name, model in models.items():\n",
        "\n",
        "    model.fit(X_sampling, y_sampling)\n",
        "\n",
        "    predictions = model.predict(X_test)\n",
        "\n",
        "    classification_matrix = classification_report(y_test, predictions)\n",
        "\n",
        "    # Cetak hasil evaluasi model\n",
        "    print(f\"\\n=== Evaluasi Model {model_name} ===\")\n",
        "    print(classification_matrix)"
      ]
    },
    {
      "cell_type": "markdown",
      "metadata": {
        "id": "8D8svq3-BYaK"
      },
      "source": [
        "#Optimasi Model"
      ]
    },
    {
      "cell_type": "code",
      "execution_count": null,
      "metadata": {
        "colab": {
          "base_uri": "https://localhost:8080/"
        },
        "id": "V7X64dopBaOv",
        "outputId": "aaedae05-4991-4989-99e3-f9942a057f21"
      },
      "outputs": [
        {
          "output_type": "stream",
          "name": "stdout",
          "text": [
            "\n",
            "=== Tuning Model Logistic Regression ===\n",
            "Best parameters: {'C': 0.1, 'solver': 'lbfgs'}\n",
            "              precision    recall  f1-score   support\n",
            "\n",
            "           0       0.73      0.68      0.70       419\n",
            "           1       0.55      0.62      0.59       272\n",
            "\n",
            "    accuracy                           0.65       691\n",
            "   macro avg       0.64      0.65      0.64       691\n",
            "weighted avg       0.66      0.65      0.66       691\n",
            "\n",
            "\n",
            "=== Tuning Model K-Nearest Neighbors ===\n",
            "Best parameters: {'n_neighbors': 7, 'weights': 'distance'}\n",
            "              precision    recall  f1-score   support\n",
            "\n",
            "           0       0.84      0.98      0.90       419\n",
            "           1       0.96      0.71      0.81       272\n",
            "\n",
            "    accuracy                           0.87       691\n",
            "   macro avg       0.90      0.84      0.86       691\n",
            "weighted avg       0.88      0.87      0.87       691\n",
            "\n",
            "\n",
            "=== Tuning Model Random Forest ===\n",
            "Best parameters: {'max_depth': 20, 'min_samples_leaf': 2, 'min_samples_split': 2, 'n_estimators': 100}\n",
            "              precision    recall  f1-score   support\n",
            "\n",
            "           0       0.84      0.95      0.89       419\n",
            "           1       0.91      0.72      0.80       272\n",
            "\n",
            "    accuracy                           0.86       691\n",
            "   macro avg       0.87      0.83      0.85       691\n",
            "weighted avg       0.87      0.86      0.86       691\n",
            "\n",
            "\n",
            "=== Tuning Model Support Vector Machine ===\n",
            "Best parameters: {'C': 10, 'kernel': 'rbf'}\n",
            "              precision    recall  f1-score   support\n",
            "\n",
            "           0       0.81      0.96      0.88       419\n",
            "           1       0.91      0.66      0.77       272\n",
            "\n",
            "    accuracy                           0.84       691\n",
            "   macro avg       0.86      0.81      0.82       691\n",
            "weighted avg       0.85      0.84      0.84       691\n",
            "\n",
            "\n",
            "=== Tuning Model Naive Bayes ===\n",
            "Best parameters: {'var_smoothing': 1e-09}\n",
            "              precision    recall  f1-score   support\n",
            "\n",
            "           0       0.72      0.69      0.71       419\n",
            "           1       0.56      0.59      0.57       272\n",
            "\n",
            "    accuracy                           0.65       691\n",
            "   macro avg       0.64      0.64      0.64       691\n",
            "weighted avg       0.66      0.65      0.66       691\n",
            "\n",
            "\n",
            "=== Tuning Model Decision Tree ===\n",
            "Best parameters: {'max_depth': 20, 'min_samples_leaf': 1, 'min_samples_split': 5}\n",
            "              precision    recall  f1-score   support\n",
            "\n",
            "           0       0.83      0.96      0.89       419\n",
            "           1       0.93      0.69      0.79       272\n",
            "\n",
            "    accuracy                           0.86       691\n",
            "   macro avg       0.88      0.83      0.84       691\n",
            "weighted avg       0.87      0.86      0.85       691\n",
            "\n"
          ]
        }
      ],
      "source": [
        "from sklearn.model_selection import GridSearchCV\n",
        "\n",
        "# Parameter grid untuk masing-masing model\n",
        "param_grid = {\n",
        "    \"Logistic Regression\": {\n",
        "        'C': [0.1, 1, 10, 100],\n",
        "        'solver': ['liblinear', 'lbfgs']\n",
        "    },\n",
        "    \"K-Nearest Neighbors\": {\n",
        "        'n_neighbors': [3, 5, 7, 9],\n",
        "        'weights': ['uniform', 'distance']\n",
        "    },\n",
        "    \"Random Forest\": {\n",
        "        'n_estimators': [50, 100, 200, 300],\n",
        "        'max_depth': [None, 10, 20, 30, 40],\n",
        "        'min_samples_split': [2, 5, 10],\n",
        "        'min_samples_leaf': [1, 2, 4]\n",
        "    },\n",
        "    \"Support Vector Machine\": {\n",
        "        'C': [0.1, 1, 10, 100],\n",
        "        'kernel': ['linear', 'rbf']\n",
        "    },\n",
        "    \"Naive Bayes\": {\n",
        "        'var_smoothing': [1e-9, 1e-8, 1e-7]\n",
        "    },\n",
        "     \"Decision Tree\": {\n",
        "        'max_depth': [None, 10, 20, 30, 40],\n",
        "        'min_samples_split': [2, 5, 10],\n",
        "        'min_samples_leaf': [1, 2, 4]\n",
        "    }\n",
        "}\n",
        "\n",
        "# Inisialisasi model-model\n",
        "models = {\n",
        "    \"Logistic Regression\": LogisticRegression(),\n",
        "    \"K-Nearest Neighbors\": KNeighborsClassifier(),\n",
        "    \"Random Forest\": RandomForestClassifier(),\n",
        "    \"Support Vector Machine\": SVC(),\n",
        "    \"Naive Bayes\": GaussianNB(),\n",
        "    \"Decision Tree\": DecisionTreeClassifier()\n",
        "}\n",
        "\n",
        "# Melakukan Grid Search dan evaluasi untuk setiap model\n",
        "for model_name, model in models.items():\n",
        "    print(f\"\\n=== Tuning Model {model_name} ===\")\n",
        "    grid_search = GridSearchCV(estimator=model, param_grid=param_grid[model_name], cv=5, n_jobs=-1, scoring='accuracy')\n",
        "    grid_search.fit(X_sampling, y_sampling)\n",
        "\n",
        "    best_model = grid_search.best_estimator_\n",
        "    predictions = best_model.predict(X_test)\n",
        "\n",
        "    print(f\"Best parameters: {grid_search.best_params_}\")\n",
        "    classification_matrix = classification_report(y_test, predictions)\n",
        "    print(classification_matrix)"
      ]
    }
  ],
  "metadata": {
    "colab": {
      "provenance": []
    },
    "kernelspec": {
      "display_name": "Python 3",
      "name": "python3"
    },
    "language_info": {
      "name": "python"
    }
  },
  "nbformat": 4,
  "nbformat_minor": 0
}